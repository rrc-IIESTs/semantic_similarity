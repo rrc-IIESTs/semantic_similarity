{
  "nbformat": 4,
  "nbformat_minor": 0,
  "metadata": {
    "colab": {
      "provenance": []
    },
    "kernelspec": {
      "name": "python3",
      "display_name": "Python 3"
    },
    "language_info": {
      "name": "python"
    }
  },
  "cells": [
    {
      "cell_type": "code",
      "source": [
        "import gensim.downloader as api  # Import the gensim downloader API\n",
        "import numpy.linalg as la  # Import for norm function\n",
        "\n",
        "# Choose a valid model name from https://radimrehurek.com/gensim/models/word2vec.html#pretrained-vectors\n",
        "model_name = 'glove-twitter-25'  # Specify the name of the GloVe model to use\n",
        "model = api.load(model_name)  # Download and load the chosen model\n",
        "\n",
        "def word_similarity(word1, word2):\n",
        "    \"\"\"\n",
        "    This function takes two words and calculates their similarity using cosine similarity.\n",
        "\n",
        "    Args:\n",
        "        word1 (str): The first word.\n",
        "        word2 (str): The second word.\n",
        "\n",
        "    Returns:\n",
        "        float: A value between 0 and 1 representing the similarity between the two words.\n",
        "    \"\"\"\n",
        "    # Option 1: Check if words are in the key_to_index dictionary\n",
        "    if word1 not in model.key_to_index or word2 not in model.key_to_index:\n",
        "        return 0.0  # Return 0 similarity if any of the words is not in the model vocabulary\n",
        "\n",
        "    # Get word vectors using their indices\n",
        "    word1_index = model.key_to_index[word1]  # Get the index of word1 in the model\n",
        "    word2_index = model.key_to_index[word2]  # Get the index of word2 in the model\n",
        "    word1_vector = model.vectors[word1_index]  # Get the vector representation of word1\n",
        "    word2_vector = model.vectors[word2_index]  # Get the vector representation of word2\n",
        "\n",
        "    # Cosine similarity calculation\n",
        "    # Dot product of vectors / (magnitude of word1 vector * magnitude of word2 vector)\n",
        "    similarity = word1_vector.dot(word2_vector) / (la.norm(word1_vector) * la.norm(word2_vector))\n",
        "    return similarity  # Return the computed cosine similarity between the two words\n",
        "\n",
        "\n",
        "# Example usage\n",
        "word1 = \"king\"  # First word for comparison\n",
        "word2 = \"queen\"  # Second word for comparison\n",
        "similarity = word_similarity(word1, word2)  # Calculate similarity between the two words\n",
        "\n",
        "# Print the similarity between the two words\n",
        "print(f\"Similarity between '{word1}' and '{word2}': {similarity:.4f}\")\n"
      ],
      "metadata": {
        "colab": {
          "base_uri": "https://localhost:8080/"
        },
        "id": "S6Yqzhyv_yc_",
        "outputId": "a929042b-f9d6-4f29-f705-be31cfd5e5f2"
      },
      "execution_count": 1,
      "outputs": [
        {
          "output_type": "stream",
          "name": "stdout",
          "text": [
            "[==================================================] 100.0% 104.8/104.8MB downloaded\n",
            "Similarity between 'king' and 'queen': 0.9202\n"
          ]
        }
      ]
    },
    {
      "cell_type": "code",
      "source": [
        "\"\"\" This the automation of the above code\n",
        "    It takes input as a excel file consisting the words to be compared\n",
        "    Output is stored in a seperate excel file\"\"\"\n",
        "\n",
        "\n",
        "# Function to calculate similarity for each row in the Excel sheet\n",
        "def calculate_similarity(input_file, output_file):\n",
        "    # Read the Excel file\n",
        "    df = pd.read_excel(input_file)  # Read the input Excel file into a DataFrame\n",
        "\n",
        "    # Initialize a list to store similarities for each row\n",
        "    similarities = []\n",
        "\n",
        "    # Iterate through each row in the DataFrame\n",
        "    for index, row in df.iterrows():\n",
        "        # specifiy the names of the columns to perform the cosine similarity\n",
        "        word1 = row['roberta']  # Extract the word from the 'roberta' column\n",
        "        word2 = row['Answer']  # Extract the word from the 'Answer' column\n",
        "\n",
        "        # Calculate similarity between the two words using the previously defined word_similarity function\n",
        "        similarity = word_similarity(word1, word2)\n",
        "\n",
        "        # Append the calculated similarity to the list of similarities\n",
        "        similarities.append(similarity)\n",
        "\n",
        "    # Add a new column 'Similarity' to the DataFrame and populate it with the calculated similarities\n",
        "    df['Similarity'] = similarities\n",
        "\n",
        "    # Save the modified DataFrame to a new Excel file\n",
        "    df.to_excel(output_file, index=False)  # Save the DataFrame to the specified output file path\n",
        "    print(\"Similarity calculation completed. Results saved to\", output_file)  # Print a message indicating completion\n",
        "\n",
        "# Example usage\n",
        "input_file = \"/content/t5 vs roberta.xlsx\"  # Specify the input file path\n",
        "output_file = \"output.xlsx\"  # Specify the output file path\n",
        "calculate_similarity(input_file, output_file)  # Call the function to calculate similarities and save results\n"
      ],
      "metadata": {
        "colab": {
          "base_uri": "https://localhost:8080/"
        },
        "id": "tnBFkwgoIBZB",
        "outputId": "689ac18f-0903-401b-dc86-c0a3fa6241a3"
      },
      "execution_count": null,
      "outputs": [
        {
          "output_type": "stream",
          "name": "stdout",
          "text": [
            "Similarity calculation completed. Results saved to output.xlsx\n"
          ]
        }
      ]
    },
    {
      "cell_type": "code",
      "source": [],
      "metadata": {
        "id": "M1uYg0FKInPr"
      },
      "execution_count": null,
      "outputs": []
    }
  ]
}