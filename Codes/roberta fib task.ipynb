{
  "nbformat": 4,
  "nbformat_minor": 0,
  "metadata": {
    "colab": {
      "provenance": []
    },
    "kernelspec": {
      "name": "python3",
      "display_name": "Python 3"
    },
    "language_info": {
      "name": "python"
    }
  },
  "cells": [
    {
      "cell_type": "code",
      "source": [
        "\"\"\" This part of code is to demonstraste the use of roberta to perform the fill\n",
        "     in the blanks task \"\"\"\n",
        "\n",
        "\n",
        "# Import the pipeline module from the transformers library\n",
        "from transformers import pipeline\n",
        "\n",
        "# Load the model and tokenizer for masked language modeling using the pipeline\n",
        "fill_mask = pipeline(\"fill-mask\", model=\"roberta-base\")\n",
        "\n",
        "# Define the text with a blank to fill\\\n",
        "# <mask> used to define the blanks in the sentence\n",
        "text = \"The capital of France is <mask>.\"\n",
        "\n",
        "# Generate multiple predictions for the masked word\n",
        "# top_k=1 means Top predictions will be considered\n",
        "# we can change the value of top_k to get other results also\n",
        "predictions = fill_mask(text, top_k=2)\n",
        "\n",
        "# Print the results (assuming 'score' is present in the output)\n",
        "print(\"Predicted words and scores:\")\n",
        "# Iterate through each prediction and print the predicted word and its score\n",
        "for prediction in predictions:\n",
        "    print(f\"- {prediction['token_str']}: {prediction['score']:.2f}\")\n"
      ],
      "metadata": {
        "id": "wHHxc4BTJjMl"
      },
      "execution_count": null,
      "outputs": []
    },
    {
      "cell_type": "code",
      "source": [
        "\"\"\" This part code is the automation of the above code.\n",
        "    It takes the input fron the excel sheet of fill in the blanks questions\n",
        "    It produces the result in the form of excel sheet contaion the the answers to questions\"\"\"\n",
        "\n",
        "# Import necessary modules\n",
        "import transformers\n",
        "from transformers import pipeline\n",
        "import pandas as pd\n",
        "import os\n",
        "\n",
        "# Load the fill-mask pipeline for RoBERTa model\n",
        "fill_mask = pipeline(\"fill-mask\", model=\"roberta-base\")\n",
        "\n",
        "# Load questions from an Excel file\n",
        "try:\n",
        "    df = pd.read_excel(\"/content/5000 Q.xlsx\")  # Replace with the path to your Excel file\n",
        "    questions = df[\"Fill in the blanks\"]  #Enter the column that contains the questions\n",
        "except Exception as e:\n",
        "    print(\"Error occurred while loading the Excel file:\", e)\n",
        "    exit()\n",
        "\n",
        "# Process each question and fill in the blank\n",
        "filled_words = []\n",
        "for question in questions:\n",
        "    try:\n",
        "        # Get the first prediction for each question\n",
        "        prediction = fill_mask(question, top_k=1)[0][\"token_str\"]\n",
        "        filled_words.append(prediction.strip())\n",
        "    except Exception as e:\n",
        "        print(\"Error occurred while processing the question:\", e)\n",
        "        filled_words.append(\"Error\")\n",
        "\n",
        "# Add filled words to the DataFrame (optional)\n",
        "df[\"Filled Word\"] = filled_words  # Add a new column with the filled words\n",
        "\n",
        "# Specify the path for the output Excel file\n",
        "output_file_path = \"/content/filled_words.xlsx\"\n",
        "\n",
        "# Save filled words (or DataFrame with filled word column) to a new Excel file\n",
        "try:\n",
        "    # Choose between saving filled words as a list or within the DataFrame\n",
        "    if not 'Filled Word' in df.columns:  # If the column doesn't exist, save filled words as a separate list\n",
        "        pd.Series(filled_words).to_excel(output_file_path, index=False)\n",
        "    else:  # If the column exists, save DataFrame with \"Filled Word\" column\n",
        "        df.to_excel(output_file_path, index=False)\n",
        "    print(\"Filled words saved to:\", output_file_path)\n",
        "except Exception as e:\n",
        "    print(\"Error occurred while saving the Excel file:\", e)\n",
        "    # If an error occurs while saving, create a backup file with filled words\n",
        "    output_file_path = \"/content/filled_words_backup.xlsx\"\n",
        "    if not 'Filled Word' in df.columns:  # Save filled words as a separate list to the backup file\n",
        "        pd.Series(filled_words).to_excel(output_file_path, index=False)\n",
        "    else:  # Save DataFrame with \"Filled Word\" column to the backup file\n",
        "        df.to_excel(output_file_path, index=False)\n",
        "    print(\"Filled words saved to backup file:\", output_file_path)\n"
      ],
      "metadata": {
        "id": "DzlebfHMPSFh"
      },
      "execution_count": null,
      "outputs": []
    },
    {
      "cell_type": "code",
      "source": [],
      "metadata": {
        "id": "mRuawyER_BUm"
      },
      "execution_count": null,
      "outputs": []
    }
  ]
}